{
 "cells": [
  {
   "cell_type": "markdown",
   "id": "31f78a4b",
   "metadata": {},
   "source": [
    "# Predicting Titanic survivors using family model  "
   ]
  },
  {
   "cell_type": "markdown",
   "id": "0b8cce2d",
   "metadata": {},
   "source": [
    "  \n",
    "## 0. 💻 Download Titanic data by Kaggle API"
   ]
  },
  {
   "cell_type": "code",
   "execution_count": 1,
   "id": "d2b8d96f",
   "metadata": {},
   "outputs": [
    {
     "name": "stdout",
     "output_type": "stream",
     "text": [
      "C:\\Users\\Turing\\BIG DATA\\UPA\\data\n",
      "C:\\Users\\Turing\\BIG DATA\\UPA\\kaggle_data\n",
      "Downloading titanic.zip to C:\\Users\\Turing\\BIG DATA\\UPA\\kaggle_data\n",
      "\n"
     ]
    },
    {
     "name": "stderr",
     "output_type": "stream",
     "text": [
      "\n",
      "  0%|          | 0.00/34.1k [00:00<?, ?B/s]\n",
      "100%|##########| 34.1k/34.1k [00:00<00:00, 186kB/s]\n",
      "100%|##########| 34.1k/34.1k [00:00<00:00, 186kB/s]\n"
     ]
    }
   ],
   "source": [
    "!mkdir kaggle_data\n",
    "!mkdir data\n",
    "%cd data\n",
    "!mkdir titanic\n",
    "%cd ../kaggle_data\n",
    "!kaggle competitions download -c titanic\n",
    "!tar -xf titanic.zip -C ../data/titanic"
   ]
  },
  {
   "cell_type": "code",
   "execution_count": 10,
   "id": "5385393d",
   "metadata": {},
   "outputs": [
    {
     "name": "stdout",
     "output_type": "stream",
     "text": [
      "C:\\Users\\Turing\\BIG DATA\\UPA\\data\n",
      "폴더 PATH의 목록입니다.\n",
      "볼륨 일련 번호는 724B-7E6B입니다.\n",
      "C:.\n",
      "└─titanic\n",
      "        gender_submission.csv\n",
      "        test.csv\n",
      "        train.csv\n",
      "        \n"
     ]
    }
   ],
   "source": [
    "%cd ../data\n",
    "!tree /f"
   ]
  },
  {
   "cell_type": "code",
   "execution_count": 13,
   "id": "30ce90a8",
   "metadata": {},
   "outputs": [],
   "source": []
  }
 ],
 "metadata": {
  "kernelspec": {
   "display_name": "Python 3",
   "language": "python",
   "name": "python3"
  },
  "language_info": {
   "codemirror_mode": {
    "name": "ipython",
    "version": 3
   },
   "file_extension": ".py",
   "mimetype": "text/x-python",
   "name": "python",
   "nbconvert_exporter": "python",
   "pygments_lexer": "ipython3",
   "version": "3.8.8"
  }
 },
 "nbformat": 4,
 "nbformat_minor": 5
}
